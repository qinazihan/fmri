{
 "cells": [
  {
   "cell_type": "code",
   "metadata": {
    "ExecuteTime": {
     "end_time": "2024-11-21T18:11:40.865114Z",
     "start_time": "2024-11-21T18:11:39.955792Z"
    }
   },
   "source": [
    "import os\n",
    "import pandas as pd\n",
    "import numpy as np\n",
    "# from sklearn import linear_model\n",
    "from scipy.stats import zscore\n",
    "# import matplotlib.pyplot as plt\n",
    "from scipy.interpolate import CubicSpline\n",
    "# import prol\n",
    "import math\n",
    "from sklearn.linear_model import LogisticRegression\n",
    "from sklearn.linear_model import Ridge\n",
    "import matplotlib.pyplot as plt\n",
    "from sklearn.ensemble import RandomForestRegressor\n",
    "import scipy.stats as stats\n",
    "import seaborn as sns\n",
    "from treeple.ensemble import PatchObliqueRandomForestRegressor\n",
    "from sklearn.metrics import r2_score"
   ],
   "outputs": [],
   "execution_count": 1
  },
  {
   "cell_type": "code",
   "metadata": {
    "ExecuteTime": {
     "end_time": "2024-11-21T18:11:40.980401Z",
     "start_time": "2024-11-21T18:11:40.871963Z"
    }
   },
   "source": [
    "print(os.getcwd())\n",
    "data = np.load('group_data_natview_data_fmri_eyetracking1hz.npy',allow_pickle=True)\n",
    "data_dict = data.item()\n",
    "# data_dict['data_eyetracking']"
   ],
   "outputs": [
    {
     "name": "stdout",
     "output_type": "stream",
     "text": [
      "/Users/qinazihan/Desktop/Jovo/Nov20\n"
     ]
    }
   ],
   "execution_count": 2
  },
  {
   "cell_type": "code",
   "metadata": {
    "ExecuteTime": {
     "end_time": "2024-11-21T18:11:42.436343Z",
     "start_time": "2024-11-21T18:11:42.434541Z"
    }
   },
   "source": [
    "subjects = data_dict['subjects']\n",
    "sessions = data_dict['sessions']\n",
    "tasks = data_dict['tasks']\n",
    "data_brainstates = data_dict['data_fmri']\n",
    "data_eyetracking = data_dict['data_eyetracking']\n",
    "brainstates = [ 'tsCAP1', 'tsCAP2', 'tsCAP3', 'tsCAP4', 'tsCAP5', 'tsCAP6', 'tsCAP7', 'tsCAP8']"
   ],
   "outputs": [],
   "execution_count": 3
  },
  {
   "cell_type": "code",
   "metadata": {},
   "source": [
    "def Data_Handeler(sub,session,state,task,window=12,mask_thr = 0.75):\n",
    "    key = 'sub-' + sub+'_ses-'+session +'_task-'+ task\n",
    "    fmri_ts_mask = (data_brainstates[key]['tsMask'].to_numpy() > 0.5)\n",
    "    eyetrack_mask = (data_eyetracking[key]['tmask'].to_numpy() > 0.5)\n",
    "\n",
    "    FMRI_TARGET_DATA = data_brainstates[key][state].to_numpy()\n",
    "    PD_DATA = data_eyetracking[key]['pupil_size'].to_numpy()\n",
    "    Xpos = data_eyetracking[key]['X_position'].to_numpy()\n",
    "    Ypos = data_eyetracking[key]['Y_position'].to_numpy()\n",
    "\n",
    "    PD_DATA_dfirst = np.diff(PD_DATA, prepend=PD_DATA[0])\n",
    "    PD_DATA_dsecond = np.diff(PD_DATA, n=2, prepend=PD_DATA_dfirst[:2])\n",
    "    PREDICTION_FEATURES = np.vstack((PD_DATA, PD_DATA_dfirst, PD_DATA_dsecond)).T\n",
    "    \n",
    "    PUPIL = []\n",
    "    FMRI = []\n",
    "    TIME = []\n",
    "    for i in range(0,FMRI_TARGET_DATA.shape[0]-window):\n",
    "        X = np.reshape(PREDICTION_FEATURES[(i):(i+window),: ].flatten(),(1,-1))\n",
    "        FEATURE_MASK = eyetrack_mask[(i):(i+window)]\n",
    "        Y = FMRI_TARGET_DATA[i+window]\n",
    "        TARGET_MASK = fmri_ts_mask[i+window]\n",
    "        if np.mean(FEATURE_MASK) >= 0.75 and TARGET_MASK:\n",
    "            PUPIL.append(X)\n",
    "            FMRI.append(Y)\n",
    "            TIME.append(i+window)\n",
    "    PUPIL_DF = np.concatenate(PUPIL)\n",
    "    return PUPIL_DF,FMRI,TIME\n",
    "    "
   ],
   "outputs": [],
   "execution_count": null
  },
  {
   "cell_type": "code",
   "metadata": {},
   "source": [
    "# Time Encoding\n",
    "import torch\n",
    "import torch.nn as nn\n",
    "\n",
    "class TimeEmbedding(nn.Module):\n",
    "    def __init__(self, dim):\n",
    "        super(TimeEmbedding, self).__init__()\n",
    "        self.freqs = (2 * np.pi) / (torch.arange(2, dim + 1, 2))\n",
    "        self.freqs = self.freqs.unsqueeze(0)\n",
    "\n",
    "    def forward(self, t):\n",
    "        self.sin = torch.sin(self.freqs * t)\n",
    "        self.cos = torch.cos(self.freqs * t)\n",
    "        return torch.cat([self.sin, self.cos], dim=-1)\n",
    "\n",
    "def Time_Handeler(t,tdim= 50):\n",
    "    time_embed = TimeEmbedding(dim=tdim)\n",
    "    timeembed = []\n",
    "    for i in range(len(t)):\n",
    "        timeembed.append(time_embed(t[i]))\n",
    "    return np.concatenate(timeembed).reshape(-1,tdim)"
   ],
   "outputs": [],
   "execution_count": null
  },
  {
   "cell_type": "code",
   "metadata": {},
   "source": [
    "def Train_Test(test_sub,SUBJECTS,session,state,tasks_list, time = False,model = 'ridge'):\n",
    "    PUPIL_ALL = []\n",
    "    FMRI_ALL = []\n",
    "    TIME_ALL = []\n",
    "    for sub_i in SUBJECTS:\n",
    "        for task in tasks_list:\n",
    "            PUPIL,FMRI,TIME = Data_Handeler(sub = sub_i,session =session,state = state,task = task,window=12,mask_thr = 0.75)\n",
    "            if sub_i == test_sub:\n",
    "                PUPIL_TEST = zscore(PUPIL,axis=1)\n",
    "                FMRI_TEST = zscore(FMRI)\n",
    "                TIME_TEST = TIME\n",
    "            else:\n",
    "                PUPIL_ALL.append(PUPIL)\n",
    "                FMRI_ALL.extend(FMRI)\n",
    "                TIME_ALL.extend(TIME)\n",
    "\n",
    "    PUPIL_TRAIN = zscore(np.concatenate(PUPIL_ALL),axis = 1)\n",
    "    FMRI_TRAIN = zscore(FMRI_ALL)\n",
    "    TIME_TRAIN = TIME_ALL\n",
    "    if model == 'ridge':\n",
    "        reg = Ridge(alpha=1)    \n",
    "    if model == 'rf':\n",
    "        reg = RandomForestRegressor()\n",
    "    if model == 'morf':\n",
    "        reg = PatchObliqueRandomForestRegressor()\n",
    "    if time:\n",
    "        TIME_ENCODE_TRAIN = Time_Handeler(TIME_TRAIN)\n",
    "        # print(TIME_ENCODE_TRAIN.shape)\n",
    "        PUPIL_TRAIN_TIME = np.hstack((PUPIL_TRAIN,TIME_ENCODE_TRAIN))\n",
    "        # print(PUPIL_TRAIN_TIME.shape)\n",
    "        TIME_ENCODE_TEST = Time_Handeler(TIME_TEST)\n",
    "        PUPIL_TEST_TIME = np.hstack((PUPIL_TEST,TIME_ENCODE_TEST))\n",
    "    else:\n",
    "        PUPIL_TRAIN_TIME = PUPIL_TRAIN\n",
    "        PUPIL_TEST_TIME = PUPIL_TEST\n",
    "    print(PUPIL_TRAIN_TIME.shape)\n",
    "    reg.fit(PUPIL_TRAIN_TIME, FMRI_TRAIN)\n",
    "    ypred_train = reg.predict(PUPIL_TRAIN_TIME)\n",
    "    ypred = reg.predict(PUPIL_TEST_TIME)\n",
    "    corr = np.corrcoef(np.array(FMRI_TEST).T,ypred.T)[0,1]\n",
    "    return FMRI_TRAIN,ypred_train,FMRI_TEST,ypred,corr"
   ],
   "outputs": [],
   "execution_count": null
  },
  {
   "metadata": {},
   "cell_type": "code",
   "source": [
    "session = '01'\n",
    "state = 'tsCAP5'\n",
    "CORR = [] \n",
    "CORR_TIME = []\n",
    "R2_score = []\n",
    "R2_score_TIME = []\n",
    "SUBJECTS = ['01', '02','03','04', '05','06', '07', '08', '09','10','11','12', '13', '14', '15', '16', '18', '20', '21', '22']\n",
    "available_subjects = []\n",
    "tasks_list = ['checker_run-01']\n",
    "for subject in SUBJECTS:\n",
    "    key = 'sub-' + subject+'_ses-'+session +'_task-'+ tasks_list[0]\n",
    "    if key in data_brainstates.keys():\n",
    "        available_subjects.append(subject)\n",
    "        \n",
    "for test_sub in available_subjects:\n",
    "    print(test_sub)\n",
    "    _,_,FMRI_TEST,ypred,corr = Train_Test(test_sub,available_subjects,session,state,tasks_list,time = False,model = 'ridge')\n",
    "    R2_score.append(r2_score(FMRI_TEST,ypred))\n",
    "    CORR.append(corr)\n",
    "    _,_,FMRI_TEST_time,ypred_time,corr_time = Train_Test(test_sub,available_subjects,session,state,tasks_list,time = True,model = 'ridge')\n",
    "    CORR_TIME.append(corr_time)\n",
    "    R2_score_TIME.append(r2_score(FMRI_TEST_time,ypred_time))\n",
    "    print(corr,corr_time)\n",
    "    print(r2_score(FMRI_TEST,ypred),r2_score(FMRI_TEST_time,ypred_time))\n",
    "    "
   ],
   "outputs": [],
   "execution_count": null
  },
  {
   "cell_type": "code",
   "metadata": {},
   "source": [
    "TEST_SUB = np.random.choice(available_subjects)\n",
    "for test_sub in [TEST_SUB]:\n",
    "    plt.figure(figsize=(40, 6))\n",
    "    print(test_sub)\n",
    "    FMRI_TRAIN,ypred_train,FMRI_TEST,ypred,corr = Train_Test(TEST_SUB,available_subjects,session,state,tasks_list,time = False,model = 'ridge')\n",
    "    print(corr)\n",
    "    plt.plot(FMRI_TRAIN)\n",
    "    plt.plot(ypred_train)\n",
    "    plt.show()\n",
    "    plt.plot(FMRI_TEST)\n",
    "    plt.plot(ypred)\n",
    "    plt.show()\n",
    "    \n",
    "    plt.figure(figsize=(40, 6))\n",
    "    FMRI_TRAIN,ypred_train,FMRI_TEST,ypred,corr = Train_Test(TEST_SUB,available_subjects,session,state,tasks_list,time = True,model = 'ridge')\n",
    "    print(corr)\n",
    "    plt.plot(FMRI_TRAIN)\n",
    "    plt.plot(ypred_train)\n",
    "    plt.show()\n",
    "    plt.plot(FMRI_TEST)\n",
    "    plt.plot(ypred)\n",
    "    plt.show()"
   ],
   "outputs": [],
   "execution_count": null
  },
  {
   "cell_type": "code",
   "metadata": {},
   "source": [
    "CORR_Ridge = pd.DataFrame(np.hstack((np.array(R2_score).reshape(-1,1),np.array(R2_score_TIME).reshape(-1,1),np.array(CORR).reshape(-1,1),np.array(CORR_TIME).reshape(-1,1))),columns = ['R2_Score','R2_Score_Time','Corr','Corr_Time'])\n",
    "sns.stripplot(CORR_Ridge,s = 8,alpha = 0.6,jitter = False)\n",
    "# sns.lineplot(x='Corr_Time',y='Corr',data = corr_df)\n",
    "for idx, row in CORR_Ridge.iterrows():\n",
    "    plt.plot([2, 3], [row['Corr'], row['Corr_Time']], color='blue', linestyle='-', marker='o',alpha = 0.2)\n",
    "for idx, row in CORR_Ridge.iterrows():\n",
    "    plt.plot([0, 1], [row['R2_Score'], row['R2_Score_Time']], color='blue', linestyle='-', marker='o',alpha = 0.2)\n",
    "plt.xticks([0, 1,2,3],  ['R2_Score','R2_Score_Time','Corr','Corr_Time'])\n",
    "plt.ylim([-0.2,1])\n",
    "plt.yticks([-0.2,0,0.2,0.4,0.6,0.8,1])\n",
    "plt.title('Ridge Regression Correlation '+ tasks_list[0])\n"
   ],
   "outputs": [],
   "execution_count": null
  },
  {
   "cell_type": "code",
   "metadata": {},
   "source": [
    "session = '01'\n",
    "state = 'tsCAP5'\n",
    "CORR = [] \n",
    "CORR_TIME = []\n",
    "R2_score = []\n",
    "R2_score_TIME = []\n",
    "SUBJECTS = ['01', '02','03','04', '05','06', '07', '08', '09','10','11','12', '13', '14', '15', '16', '18', '20', '21', '22']\n",
    "available_subjects = []\n",
    "tasks_list = ['checker_run-01']\n",
    "for subject in SUBJECTS:\n",
    "    key = 'sub-' + subject+'_ses-'+session +'_task-'+ tasks_list[0]\n",
    "    if key in data_brainstates.keys():\n",
    "        available_subjects.append(subject)\n",
    "        \n",
    "for test_sub in available_subjects:\n",
    "    print(test_sub)\n",
    "    _,_,FMRI_TEST,ypred,corr = Train_Test(test_sub,available_subjects,session,state,tasks_list,time = False,model = 'rf')\n",
    "    R2_score.append(r2_score(FMRI_TEST,ypred))\n",
    "    CORR.append(corr)\n",
    "    _,_,FMRI_TEST_time,ypred_time,corr_time = Train_Test(test_sub,available_subjects,session,state,tasks_list,time = True,model = 'rf')\n",
    "    CORR_TIME.append(corr_time)\n",
    "    R2_score_TIME.append(r2_score(FMRI_TEST_time,ypred_time))\n",
    "    print(corr,corr_time)\n",
    "    print(r2_score(FMRI_TEST,ypred),r2_score(FMRI_TEST_time,ypred_time))\n",
    "    "
   ],
   "outputs": [],
   "execution_count": null
  },
  {
   "cell_type": "code",
   "metadata": {},
   "source": [
    "TEST_SUB = np.random.choice(available_subjects)\n",
    "\n",
    "for test_sub in [TEST_SUB]:\n",
    "    plt.figure(figsize=(40, 6))\n",
    "    print(test_sub)\n",
    "    FMRI_TRAIN,ypred_train,FMRI_TEST,ypred,corr = Train_Test(TEST_SUB,available_subjects,session,state,tasks_list,time = False,model = 'rf')\n",
    "    print(corr)\n",
    "    plt.plot(FMRI_TRAIN)\n",
    "    plt.plot(ypred_train)\n",
    "    plt.show()\n",
    "    plt.plot(FMRI_TEST)\n",
    "    plt.plot(ypred)\n",
    "    plt.show()\n",
    "    \n",
    "    plt.figure(figsize=(40, 6))\n",
    "    FMRI_TRAIN,ypred_train,FMRI_TEST,ypred,corr = Train_Test(TEST_SUB,available_subjects,session,state,tasks_list,time = True,model = 'rf')\n",
    "    print(corr)\n",
    "    plt.plot(FMRI_TRAIN)\n",
    "    plt.plot(ypred_train)\n",
    "    plt.show()\n",
    "    plt.plot(FMRI_TEST)\n",
    "    plt.plot(ypred)\n",
    "    plt.show()"
   ],
   "outputs": [],
   "execution_count": null
  },
  {
   "metadata": {},
   "cell_type": "code",
   "source": [
    "CORR_RF = pd.DataFrame(np.hstack((np.array(R2_score).reshape(-1,1),np.array(R2_score_TIME).reshape(-1,1),np.array(CORR).reshape(-1,1),np.array(CORR_TIME).reshape(-1,1))),columns = ['R2_Score','R2_Score_Time','Corr','Corr_Time'])\n",
    "sns.stripplot(CORR_RF,s = 8,alpha = 0.6,jitter = False)\n",
    "for idx, row in CORR_RF.iterrows():\n",
    "    plt.plot([2, 3], [row['Corr'], row['Corr_Time']], color='blue', linestyle='-', marker='o',alpha = 0.2)\n",
    "for idx, row in CORR_RF.iterrows():\n",
    "    plt.plot([0, 1], [row['R2_Score'], row['R2_Score_Time']], color='blue', linestyle='-', marker='o',alpha = 0.2)\n",
    "plt.xticks([0, 1,2,3],  ['R2_Score','R2_Score_Time','Corr','Corr_Time'])\n",
    "plt.ylim([0,1])\n",
    "plt.yticks([-0.2,0,0.2,0.4,0.6,0.8,1])\n",
    "plt.title('Random Forests Correlation '+ tasks_list[0])\n",
    "print(R2_score)\n",
    "print(R2_score_TIME)"
   ],
   "outputs": [],
   "execution_count": null
  },
  {
   "metadata": {},
   "cell_type": "code",
   "source": "",
   "outputs": [],
   "execution_count": null
  }
 ],
 "metadata": {
  "kernelspec": {
   "display_name": "Python 3",
   "language": "python",
   "name": "python3"
  },
  "language_info": {
   "codemirror_mode": {
    "name": "ipython",
    "version": 3
   },
   "file_extension": ".py",
   "mimetype": "text/x-python",
   "name": "python",
   "nbconvert_exporter": "python",
   "pygments_lexer": "ipython3",
   "version": "3.9.6"
  }
 },
 "nbformat": 4,
 "nbformat_minor": 2
}
